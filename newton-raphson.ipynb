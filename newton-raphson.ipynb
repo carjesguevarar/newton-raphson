{
 "cells": [
  {
   "cell_type": "markdown",
   "metadata": {
    "collapsed": true
   },
   "source": [
    "# Recursos necearios"
   ]
  },
  {
   "cell_type": "code",
   "execution_count": 1,
   "metadata": {},
   "outputs": [],
   "source": [
    "import matplotlib.pyplot as plt\n",
    "\n",
    "\n",
    "grap = []\n",
    "\n",
    "\n",
    "def f(n, x):\n",
    "    \"\"\"\n",
    "    Función que devuelve el valor de la función en una de sus derivadas, o en la función original.\n",
    "    :param n: Indicador del número de derivada que se desea, o cero para la función original.\n",
    "    :param x: Punto en donde se evalua la función.\n",
    "    :return: Valor de la función evaluada.\n",
    "    \"\"\"\n",
    "    return {\n",
    "        0: x**3 - 2*x**2 - 5,\n",
    "        1: 3*x**2 - 4*x**1,\n",
    "        2: 6*x**1 - 4\n",
    "    }[n]\n",
    "\n",
    "\n",
    "def tenet(v):\n",
    "    \"\"\"\n",
    "    Fúnción que verifica la factibilidad de aplicar el método de Newton-Raphson.\n",
    "    :param v: Valor de 'xsub0'.\n",
    "    :return: Valor lógico de la factibilidad del método.\n",
    "    \"\"\"\n",
    "    if abs((f(0, v)*(f(2, v)))/((f(1, v))**2)) < 1:\n",
    "        return True\n",
    "    else:\n",
    "        return False\n",
    "\n",
    "\n",
    "def xian(v):\n",
    "    \"\"\"\n",
    "    Función que calcula 'xsubi+1', perteneciente a la ecuación del método.\n",
    "    :param v: Valor de 'xsub0'.\n",
    "    :return: Valor numérico de 'xsubi+1'.\n",
    "    \"\"\"\n",
    "    return v - ((f(0, v)) / (f(1, v)))\n",
    "\n",
    "\n",
    "def calder(xi, xaddo):\n",
    "    \"\"\"\n",
    "    Función que calcula el error relativo, perteneciente al método.\n",
    "    :param xi: Valor de 'xi'.\n",
    "    :param xaddo: valor de 'xiaddimásuno'.\n",
    "    :return: Error relativo, en base a los dos valores.\n",
    "    \"\"\"\n",
    "    return abs((xi - xaddo)/xaddo)"
   ]
  },
  {
   "cell_type": "markdown",
   "metadata": {},
   "source": [
    "# Método de Newton-Raphson"
   ]
  },
  {
   "cell_type": "code",
   "execution_count": 2,
   "metadata": {},
   "outputs": [],
   "source": [
    "def newtonraphson(maxit, err, a, b):\n",
    "    \"\"\"\n",
    "    Fúnción de busqueda de la raíz, en la ecuación mediante el método de Newton-Raphson.\n",
    "    :param maxit: Máximo número de iteraciónes.\n",
    "    :param err: Valor del error aceptado.\n",
    "    :param a: Intervalo inferior.\n",
    "    :param b: Intervalo superior.\n",
    "    :return: Raíz de la función tal qué, f(valor) = 0.\n",
    "    \"\"\"\n",
    "    i = 0\n",
    "    xi = (a + b) / 2\n",
    "    xione = xian(xi)\n",
    "    erri = calder(xi, xione)\n",
    "    while i < maxit and erri > err:\n",
    "        xione = xian(xi)\n",
    "        erri = calder(xi, xione)\n",
    "        grap.append(erri)\n",
    "        xi = xione\n",
    "        i = i + 1\n",
    "    return xione"
   ]
  },
  {
   "cell_type": "markdown",
   "metadata": {},
   "source": [
    "# Vista de resultados"
   ]
  },
  {
   "cell_type": "markdown",
   "metadata": {},
   "source": [
    "Raíz de la función:"
   ]
  },
  {
   "cell_type": "code",
   "execution_count": 3,
   "metadata": {},
   "outputs": [
    {
     "data": {
      "text/plain": [
       "2.6909515167228415"
      ]
     },
     "execution_count": 3,
     "metadata": {},
     "output_type": "execute_result"
    }
   ],
   "source": [
    "newtonraphson(5, 0.03, 1, 4)"
   ]
  },
  {
   "cell_type": "markdown",
   "metadata": {},
   "source": [
    "Gráfica perteneciente al error relativo:"
   ]
  },
  {
   "cell_type": "code",
   "execution_count": 4,
   "metadata": {},
   "outputs": [
    {
     "data": {
      "text/plain": [
       "[<matplotlib.lines.Line2D at 0xabdd93cc>]"
      ]
     },
     "execution_count": 4,
     "metadata": {},
     "output_type": "execute_result"
    },
    {
     "data": {
      "image/png": "[encoded data removed]",
      "text/plain": [
       "<Figure size 432x288 with 1 Axes>"
      ]
     },
     "metadata": {},
     "output_type": "display_data"
    }
   ],
   "source": [
    "plt.plot(grap)"
   ]
  }
 ],
 "metadata": {
  "kernelspec": {
   "display_name": "Python 2",
   "language": "python",
   "name": "python2"
  },
  "language_info": {
   "codemirror_mode": {
    "name": "ipython",
    "version": 2
   },
   "file_extension": ".py",
   "mimetype": "text/x-python",
   "name": "python",
   "nbconvert_exporter": "python",
   "pygments_lexer": "ipython2",
   "version": "2.7.6"
  }
 },
 "nbformat": 4,
 "nbformat_minor": 0
}
